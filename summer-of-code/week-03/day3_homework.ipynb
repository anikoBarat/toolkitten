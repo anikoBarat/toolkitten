{
 "cells": [
  {
   "cell_type": "code",
   "execution_count": 139,
   "metadata": {},
   "outputs": [
    {
     "name": "stdout",
     "output_type": "stream",
     "text": [
      "Pretty printing has been turned OFF\n"
     ]
    }
   ],
   "source": [
    "%matplotlib inline\n",
    "%pprint\n",
    "import nltk, matplotlib, re\n",
    "from nltk.corpus import stopwords\n",
    "from nltk.corpus import brown\n",
    "from nltk.corpus import wordnet as wn\n",
    "\n",
    "from nltk.book import *"
   ]
  },
  {
   "cell_type": "code",
   "execution_count": null,
   "metadata": {},
   "outputs": [],
   "source": []
  },
  {
   "cell_type": "code",
   "execution_count": null,
   "metadata": {},
   "outputs": [],
   "source": [
    "# 1. Investigate the holonym-meronym relations for some nouns. \n",
    "# Remember that there are three kinds of holonym-meronym relation, so you need to use: \n",
    "# member_meronyms(), part_meronyms(), substance_meronyms(), \n",
    "# member_holonyms(), part_holonyms(), and substance_holonyms()."
   ]
  },
  {
   "cell_type": "code",
   "execution_count": 43,
   "metadata": {},
   "outputs": [
    {
     "name": "stdout",
     "output_type": "stream",
     "text": [
      "[Synset('apple.n.01'), Synset('apple.n.02')]\n",
      "Synset('cooking_apple.n.01')\n",
      "Synset('crab_apple.n.03')\n",
      "Synset('eating_apple.n.01')\n",
      "Synset('fruit.n.01')\n",
      "Synset('yield.n.03')\n",
      "Synset('fruit.n.03')\n",
      "Synset('fruit.v.01')\n",
      "Synset('fruit.v.02')\n",
      "[Synset('library.n.01'), Synset('loft.n.02'), Synset('porch.n.01'), Synset('study.n.05')]\n",
      "[Synset('caffeine.n.01'), Synset('coffee_bean.n.01')]\n",
      "[]\n"
     ]
    }
   ],
   "source": [
    "apple_synsets = wn.synsets('apple')\n",
    "print(apple_synsets)\n",
    "wn.synset('apple.n.01').lemmas()\n",
    "wn.lemma('apple.n.01.apple').synset()\n",
    "wn.lemmas('apple')\n",
    "len(wn.lemmas('apple'))\n",
    "apple = wn.synset('apple.n.01')\n",
    "types_of_apple = apple.hyponyms()\n",
    "for a in types_of_apple:\n",
    "    print(a)\n",
    "sorted(lemma.name() for synset in types_of_apple for lemma in synset.lemmas())\n",
    "fruit = wn.synsets('fruit')\n",
    "for f in fruit:\n",
    "    print(f)\n",
    "wn.synset('fruit.n.01').part_meronyms()\n",
    "print(wn.synset('house.n.01').part_meronyms())\n",
    "print(wn.synset('coffee.n.01').substance_meronyms())\n",
    "print(wn.synset('chocolate.n.01').member_holonyms())\n",
    "\n",
    "\n",
    "\n",
    "\n",
    "\n",
    "\n",
    "\n",
    "\n"
   ]
  },
  {
   "cell_type": "code",
   "execution_count": 54,
   "metadata": {},
   "outputs": [
    {
     "data": {
      "text/plain": [
       "[]"
      ]
     },
     "execution_count": 54,
     "metadata": {},
     "output_type": "execute_result"
    }
   ],
   "source": [
    "wn.synset('caffeine.n.01').member_holonyms()\n"
   ]
  },
  {
   "cell_type": "code",
   "execution_count": 58,
   "metadata": {},
   "outputs": [
    {
     "data": {
      "text/plain": [
       "[Synset('coffee.n.02')]"
      ]
     },
     "execution_count": 58,
     "metadata": {},
     "output_type": "execute_result"
    }
   ],
   "source": [
    "\n",
    "wn.synset('coffee_bean.n.01').part_holonyms()\n"
   ]
  },
  {
   "cell_type": "code",
   "execution_count": 59,
   "metadata": {},
   "outputs": [
    {
     "data": {
      "text/plain": [
       "[Synset('coffee.n.01')]"
      ]
     },
     "execution_count": 59,
     "metadata": {},
     "output_type": "execute_result"
    }
   ],
   "source": [
    "wn.synset('coffee_bean.n.01').substance_holonyms()\n"
   ]
  },
  {
   "cell_type": "code",
   "execution_count": null,
   "metadata": {},
   "outputs": [],
   "source": [
    "# 2. What percentage of noun synsets have no hyponyms? You can get all noun synsets using wn.all_synsets('n')"
   ]
  },
  {
   "cell_type": "code",
   "execution_count": 132,
   "metadata": {},
   "outputs": [
    {
     "name": "stdout",
     "output_type": "stream",
     "text": [
      "82115\n",
      "0\n",
      "[]\n",
      "<generator object WordNetCorpusReader.all_synsets at 0x7f667e2e8830>\n",
      "0\n"
     ]
    }
   ],
   "source": [
    "noun_synsets = wn.all_synsets('n')\n",
    "\n",
    "len_all = 0\n",
    "for s in noun_synsets:\n",
    "    len_all+=1\n",
    "print(len_all)\n",
    "\n",
    "print(wn.synset('retribution.n.02').hyponyms())\n",
    "\n",
    "i=0\n",
    "len_no_hyponyms = 0\n",
    "print(noun_synsets)\n",
    "for s in noun_synsets:\n",
    "    print(\"hshs\")\n",
    "    if():\n",
    "        print(\"jjs\")\n",
    "        print(s.hyponyms)\n",
    "    if s.hyponyms == (wn.synset('caffeine.n.01').member_holonyms()):        \n",
    "        len_no_hyponyms += 1\n",
    "    i+=1\n",
    "print(len_no_hyponyms)\n"
   ]
  },
  {
   "cell_type": "code",
   "execution_count": 168,
   "metadata": {},
   "outputs": [
    {
     "name": "stdout",
     "output_type": "stream",
     "text": [
      "65422\n",
      "[]\n",
      "<bound method _WordNetObject.hyponyms of Synset('retribution.n.02')>\n"
     ]
    }
   ],
   "source": [
    "noun_synsets = wn.all_synsets('n')\n",
    "\n",
    "len_no_hyponyms = 0\n",
    "for s in noun_synsets:\n",
    "    if(s.hyponyms() == []):\n",
    "        len_no_hyponyms += 1        \n",
    "    \n",
    "print(len_no_hyponyms)\n",
    "print(wn.synset('retribution.n.02').hyponyms())\n",
    "print(wn.synset('retribution.n.02').hyponyms)"
   ]
  },
  {
   "cell_type": "code",
   "execution_count": 136,
   "metadata": {},
   "outputs": [
    {
     "name": "stdout",
     "output_type": "stream",
     "text": [
      "0.7967119283931072\n"
     ]
    }
   ],
   "source": [
    "no_hyponyms_percentage = len_no_hyponyms/82115\n",
    "print(no_hyponyms_percentage)\n"
   ]
  },
  {
   "cell_type": "code",
   "execution_count": 188,
   "metadata": {},
   "outputs": [
    {
     "name": "stdout",
     "output_type": "stream",
     "text": [
      "Name of synset: retribution.n.02, Definition: the act of correcting for your wrongdoing\n",
      "Hypernyms: correction.n.01, Definition: the act of offering an improvement to replace a mistake; setting right\n",
      "Hyponyms: \n",
      "Name of synset: porch.n.01, Definition: a structure attached to the exterior of a building often forming a covered entrance\n",
      "Hypernyms: structure.n.01, Definition: a thing constructed; a complex entity constructed of many parts\n",
      "Hyponyms: back_porch.n.01, Definition: a porch for the back door\n",
      "deck.n.04, Definition: a porch that resembles the deck on a ship\n",
      "front_porch.n.01, Definition: a porch for the front door\n",
      "portico.n.01, Definition: a porch or entrance to a building consisting of a covered and often columned area\n",
      "stoop.n.03, Definition: small porch or set of steps at the front entrance of a house\n",
      "veranda.n.01, Definition: a porch along the outside of a building (sometimes partly enclosed)\n",
      "\n"
     ]
    }
   ],
   "source": [
    "# 3. Define a function supergloss(s) that takes a synset s as its argument and\n",
    "# returns a string consisting of the concatenation of the definition of s, \n",
    "# and the definitions of all the hypernyms and hyponyms of s.\n",
    "\n",
    "def supergloss(ss):\n",
    "    s=wn.synset(ss)\n",
    "    concat_string = \"\"\n",
    "    concat_string += \"Name of synset: \" + s.name() + \", Definition: \" + s.definition() + \"\\n\"\n",
    "\n",
    "    concat_string += \"Hypernyms: \"\n",
    "    for i in s.hypernyms():\n",
    "        concat_string +=  i.name() +  \", Definition: \" + i.definition() + \"\\n\"\n",
    "    \n",
    "    concat_string += \"Hyponyms: \"\n",
    "    for i in s.hyponyms():\n",
    "        concat_string += i.name() + \", Definition: \" + i.definition() + \"\\n\"\n",
    "    \n",
    "    return concat_string\n",
    "\n",
    "\n",
    "s = supergloss('retribution.n.02')\n",
    "print(s)\n",
    "\n",
    "s2 = supergloss('porch.n.01')\n",
    "print(s2)        "
   ]
  },
  {
   "cell_type": "code",
   "execution_count": null,
   "metadata": {},
   "outputs": [],
   "source": []
  }
 ],
 "metadata": {
  "kernelspec": {
   "display_name": "Python 3",
   "language": "python",
   "name": "python3"
  },
  "language_info": {
   "codemirror_mode": {
    "name": "ipython",
    "version": 3
   },
   "file_extension": ".py",
   "mimetype": "text/x-python",
   "name": "python",
   "nbconvert_exporter": "python",
   "pygments_lexer": "ipython3",
   "version": "3.5.2"
  }
 },
 "nbformat": 4,
 "nbformat_minor": 2
}
